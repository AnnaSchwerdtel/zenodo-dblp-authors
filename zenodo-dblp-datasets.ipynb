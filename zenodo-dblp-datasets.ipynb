{
 "cells": [
  {
   "cell_type": "code",
   "execution_count": null,
   "metadata": {},
   "outputs": [],
   "source": [
    "from datetime import date\n",
    "import logging\n",
    "import pandas\n",
    "import time\n",
    "\n",
    "import zenodo\n",
    "import dblp\n",
    "\n",
    "logging.basicConfig(level=logging.INFO, format='%(asctime)s: %(levelname)s - %(message)s')\n",
    "logging.Formatter.converter = time.gmtime\n"
   ]
  },
  {
   "cell_type": "code",
   "execution_count": null,
   "metadata": {},
   "outputs": [],
   "source": [
    "ZENODO_RECORDS_UNFILTERED_JSON = './zenodo-records.json'\n",
    "ZENODO_RECORDS_UNFILTERED_PICKLE = './zenodo-records.pickle'\n",
    "ZENODO_RECORDS_WITH_VERIFIED_DBLP_AUTHOR_JSON = './zenodo-records-verified-dblp-author.json'\n",
    "\n",
    "start_date = date(2022,8,1)\n",
    "end_date = date(2022,11,1)"
   ]
  },
  {
   "cell_type": "markdown",
   "metadata": {},
   "source": [
    "# Load and Store Records From Zenodo"
   ]
  },
  {
   "cell_type": "code",
   "execution_count": null,
   "metadata": {},
   "outputs": [],
   "source": [
    "hits = zenodo.load_dataset_records(start= start_date, end=end_date)"
   ]
  },
  {
   "cell_type": "code",
   "execution_count": null,
   "metadata": {},
   "outputs": [],
   "source": [
    "zenodo_records = pandas.json_normalize(hits)\n",
    "zenodo_records.to_pickle(ZENODO_RECORDS_UNFILTERED_PICKLE)\n",
    "zenodo_records.to_json(ZENODO_RECORDS_UNFILTERED_JSON, orient='records')\n",
    "zenodo_records = pandas.read_pickle(ZENODO_RECORDS_UNFILTERED_PICKLE, orient='records')\n"
   ]
  },
  {
   "cell_type": "markdown",
   "metadata": {},
   "source": [
    "# Transformation of Records\n",
    "In the following, based on the loaded zenodo records, signatures (creator, record) are created.\n",
    "These signatures are compared by orcid to verified DBLP authors (DBLP authors whos ORCID has been manually verified by the dblp team) based on an author snapshot from 24.11.2022."
   ]
  },
  {
   "cell_type": "code",
   "execution_count": null,
   "metadata": {},
   "outputs": [],
   "source": [
    "# Prepare Zenodo Signatures\n",
    "doi_signatures = zenodo_records[['doi', 'metadata.creators']].explode('metadata.creators')\n",
    "doi_signatures['affiliation'] = doi_signatures['metadata.creators'].apply(lambda x: x.get('affiliation', None))\n",
    "doi_signatures['name'] = doi_signatures['metadata.creators'].apply(lambda x: x.get('name', None))\n",
    "doi_signatures['orcid'] = doi_signatures['metadata.creators'].apply(lambda x: x.get('orcid', None))\n",
    "doi_signatures = doi_signatures[['doi', 'name', 'affiliation', 'orcid']]"
   ]
  },
  {
   "cell_type": "code",
   "execution_count": null,
   "metadata": {},
   "outputs": [],
   "source": [
    "orcids_zenodo = doi_signatures[['orcid']]\n",
    "orcids_zenodo = orcids_zenodo[orcids_zenodo[ 'orcid'].notna()]\n",
    "\n",
    "orcids_dblp_verifies = orcids_zenodo[orcids_zenodo.apply(lambda x: dblp.is_dblp_orcid(x['orcid']), axis=1)]\n",
    "doi_signatures_dblp_verified = doi_signatures[doi_signatures['orcid'].isin(orcids_dblp_verifies['orcid'])]\n",
    "\n",
    "zenodo_record_dblp_creator = doi_signatures_dblp_verified.join(zenodo_records.set_index('doi'), how='inner', on='doi')\n",
    "zenodo_record_dblp_creator = zenodo_record_dblp_creator.reset_index()"
   ]
  },
  {
   "cell_type": "markdown",
   "metadata": {},
   "source": [
    "# Export\n",
    "We exported a dataset of zenodo records with at least one creator who has a orcid that is verified in dblp.\n",
    "If a record has more than one verified dblp author, it once for each author in the following dataset.\n",
    "See the following cells for metadata about:\n",
    "* the number of unique records loaded, \n",
    "* the timeframe of the dataset,\n",
    "* the number of unique records with at least one verified dblp author, \n",
    "* and the number of enriched, filtered, and exported zenodo records."
   ]
  },
  {
   "cell_type": "code",
   "execution_count": null,
   "metadata": {},
   "outputs": [],
   "source": [
    "# Dataset metadata\n",
    "print(f\"Export path: {ZENODO_RECORDS_WITH_VERIFIED_DBLP_AUTHOR_JSON}\")\n",
    "print(f\"Unique Zenodo Records loaded: {zenodo_records['doi'].nunique()}\")\n",
    "print(f\"Zenodo record timeframe: from {zenodo_records['updated'].min()} to {zenodo_records['updated'].max()}\")\n",
    "print(f\"Records in Zenodo Snapshot with at least one verified DBLP author: {zenodo_record_dblp_creator['doi'].nunique()}\")\n",
    "print(f\"Exported Records (one entry per verified author): {zenodo_record_dblp_creator['doi'].count()}\")"
   ]
  },
  {
   "cell_type": "code",
   "execution_count": null,
   "metadata": {},
   "outputs": [],
   "source": [
    "zenodo_record_dblp_creator.to_json(ZENODO_RECORDS_WITH_VERIFIED_DBLP_AUTHOR_JSON, orient='records')"
   ]
  },
  {
   "cell_type": "code",
   "execution_count": null,
   "metadata": {},
   "outputs": [],
   "source": [
    "pandas.read_json(ZENODO_RECORDS_WITH_VERIFIED_DBLP_AUTHOR_JSON, orient='records')"
   ]
  },
  {
   "cell_type": "code",
   "execution_count": null,
   "metadata": {},
   "outputs": [],
   "source": []
  }
 ],
 "metadata": {
  "language_info": {
   "name": "python",
   "pygments_lexer": "ipython3"
  }
 },
 "nbformat": 4,
 "nbformat_minor": 2
}
